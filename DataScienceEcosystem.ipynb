{
 "cells": [
  {
   "cell_type": "markdown",
   "id": "c72d1380-3029-4be8-892b-8c3077fb291f",
   "metadata": {
    "panel-layout": {
     "height": -10,
     "visible": true,
     "width": 100
    }
   },
   "source": [
    "# Data Science Tools and Ecosystem"
   ]
  },
  {
   "cell_type": "markdown",
   "id": "3a25badd-621f-4670-93a6-f7696f59baa1",
   "metadata": {},
   "source": [
    "In this notebook, Data Science Tools and Ecosystem are summarized."
   ]
  },
  {
   "cell_type": "markdown",
   "id": "2c36a61c-3a24-47cd-a128-e4989a404957",
   "metadata": {},
   "source": [
    "Some of the popular languages that Data Scientists use are: \n",
    "1. Python\n",
    "2. R\n",
    "3. Julia\n",
    "4. Scala "
   ]
  },
  {
   "attachments": {},
   "cell_type": "markdown",
   "id": "34bbcb71-24e3-463c-b2e9-2c834ef7b2b5",
   "metadata": {},
   "source": [
    "Some of the commonly used libraries used by Data Scientists include: \n",
    "1. matplotlib\n",
    "2. numpy\n",
    "3. pandas\n",
    "4. ggplot"
   ]
  },
  {
   "cell_type": "markdown",
   "id": "b280f4ad-ce6e-43e8-8740-2ee7a7c5341f",
   "metadata": {},
   "source": [
    "| **Data Science Tools**        |\n",
    "|------------------------------|\n",
    "| Jupyter Notebook             |\n",
    "| RStudio                      |\n",
    "| Visual Studio Code (VS Code) |\n"
   ]
  },
  {
   "cell_type": "markdown",
   "id": "279b3c86-9c06-4907-82b6-1fdc048969ac",
   "metadata": {},
   "source": [
    "### Below are a few examples of evaluating arithmetic expressions in Python."
   ]
  },
  {
   "cell_type": "code",
   "execution_count": 10,
   "id": "b0a8babe-5a9f-4e9b-94b7-0521234a49c4",
   "metadata": {},
   "outputs": [
    {
     "name": "stdout",
     "output_type": "stream",
     "text": [
      "17\n"
     ]
    }
   ],
   "source": [
    "#This a simple arithmetic expression to mutiply then add integers\n",
    "print((3*4)+5)"
   ]
  },
  {
   "cell_type": "code",
   "execution_count": 11,
   "id": "89c443f7-8ebf-41ac-8bd7-a127065e9fc4",
   "metadata": {},
   "outputs": [
    {
     "name": "stdout",
     "output_type": "stream",
     "text": [
      "3.3333333333333335\n"
     ]
    }
   ],
   "source": [
    "# This will convert 200 minutes to hours by diving by 60\n",
    "print(200/60)"
   ]
  },
  {
   "cell_type": "markdown",
   "id": "82d80ab1-0c73-445d-91e3-19302bed4ebe",
   "metadata": {},
   "source": [
    "**Objectives:**\n",
    "\n",
    "- Python\n",
    "- Java\n",
    "- Scala\n",
    "- R\n",
    "- Julia\n"
   ]
  },
  {
   "cell_type": "markdown",
   "id": "aac6c725-0f57-4735-bd37-f6701eb60391",
   "metadata": {},
   "source": [
    "## Author:\n",
    "Ayesha Anwar"
   ]
  },
  {
   "cell_type": "code",
   "execution_count": null,
   "id": "8684e654-c5e2-4c84-95ae-24df32058d08",
   "metadata": {},
   "outputs": [],
   "source": []
  }
 ],
 "metadata": {
  "kernelspec": {
   "display_name": "Python 3 (ipykernel)",
   "language": "python",
   "name": "python3"
  },
  "language_info": {
   "codemirror_mode": {
    "name": "ipython",
    "version": 3
   },
   "file_extension": ".py",
   "mimetype": "text/x-python",
   "name": "python",
   "nbconvert_exporter": "python",
   "pygments_lexer": "ipython3",
   "version": "3.13.5"
  },
  "panel-cell-order": [
   "c72d1380-3029-4be8-892b-8c3077fb291f"
  ]
 },
 "nbformat": 4,
 "nbformat_minor": 5
}
